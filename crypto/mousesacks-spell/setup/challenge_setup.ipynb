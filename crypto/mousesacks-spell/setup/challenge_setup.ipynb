{
 "cells": [
  {
   "cell_type": "markdown",
   "metadata": {},
   "source": [
    "## Run this notebook using Sage-Math"
   ]
  },
  {
   "cell_type": "code",
   "execution_count": 38,
   "metadata": {},
   "outputs": [],
   "source": [
    "import hashlib"
   ]
  },
  {
   "cell_type": "code",
   "execution_count": 39,
   "metadata": {},
   "outputs": [],
   "source": [
    "## Generate ECC Params \n",
    "p = random_prime(2^48)\n",
    "b = 7\n",
    "a = 0\n",
    "E = EllipticCurve(GF(p), [a, b])\n",
    "n = randint(2, p-1)\n",
    "P = E.random_point()\n",
    "Q = n*P"
   ]
  },
  {
   "cell_type": "code",
   "execution_count": 40,
   "metadata": {},
   "outputs": [],
   "source": [
    "flag_md5 = hashlib.md5(str(n)).hexdigest();"
   ]
  },
  {
   "cell_type": "code",
   "execution_count": 41,
   "metadata": {},
   "outputs": [],
   "source": [
    "with open(\"flag.txt\", \"w\") as f:\n",
    "    f.write(\"CCSC{\" + flag_md5 + \"}\")"
   ]
  },
  {
   "cell_type": "code",
   "execution_count": 42,
   "metadata": {},
   "outputs": [
    {
     "data": {
      "text/plain": [
       "(57718729795076 : 22478316955113 : 1)"
      ]
     },
     "execution_count": 42,
     "metadata": {},
     "output_type": "execute_result"
    }
   ],
   "source": [
    "P"
   ]
  },
  {
   "cell_type": "code",
   "execution_count": 50,
   "metadata": {},
   "outputs": [],
   "source": [
    "description = \"\"\"\n",
    "E: Elliptic Curve defined by y^2 = x^3 + 7  (mod {0})\n",
    "\n",
    "Let be points on E:\n",
    "P = {1}\n",
    "Q = {2}\n",
    "\n",
    "such that:\n",
    "Q = n*P\n",
    "\n",
    "Find n\n",
    "\n",
    "Note: Flag is CCSC{{md5(n)}}\n",
    "\"\"\"\n",
    "with open(\"../public/chall.txt\", \"w\") as f:\n",
    "    f.write(description.format(p, P, Q))"
   ]
  },
  {
   "cell_type": "markdown",
   "metadata": {},
   "source": [
    "## Solution"
   ]
  },
  {
   "cell_type": "code",
   "execution_count": 52,
   "metadata": {},
   "outputs": [],
   "source": [
    "solved_n = P.discrete_log(Q)\n",
    "assert solved_n == n"
   ]
  },
  {
   "cell_type": "code",
   "execution_count": null,
   "metadata": {},
   "outputs": [],
   "source": []
  }
 ],
 "metadata": {
  "kernelspec": {
   "display_name": "SageMath 8.9",
   "language": "sage",
   "name": "sagemath"
  },
  "language_info": {
   "codemirror_mode": {
    "name": "ipython",
    "version": 2
   },
   "file_extension": ".py",
   "mimetype": "text/x-python",
   "name": "python",
   "nbconvert_exporter": "python",
   "pygments_lexer": "ipython2",
   "version": "2.7.15"
  }
 },
 "nbformat": 4,
 "nbformat_minor": 2
}
